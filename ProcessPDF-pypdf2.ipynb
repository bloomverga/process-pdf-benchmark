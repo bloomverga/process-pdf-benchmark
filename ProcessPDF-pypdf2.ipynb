{
 "cells": [
  {
   "cell_type": "code",
   "execution_count": 15,
   "metadata": {},
   "outputs": [],
   "source": [
    "import PyPDF2\n",
    "import re, os"
   ]
  },
  {
   "cell_type": "code",
   "execution_count": 16,
   "metadata": {},
   "outputs": [],
   "source": [
    "def extract_text_from_pdf(file_path):\n",
    "    pdf_file = open(file_path, 'rb')\n",
    "    reader = PyPDF2.PdfReader(pdf_file)\n",
    "    \n",
    "    text = \"\"\n",
    "    for page in reader.pages:\n",
    "        text += page.extract_text()\n",
    "    \n",
    "    pdf_file.close()\n",
    "    return text"
   ]
  },
  {
   "cell_type": "code",
   "execution_count": 17,
   "metadata": {},
   "outputs": [],
   "source": [
    "def preprocess_text(text):\n",
    "    # Remove unwanted characters\n",
    "    cleaned_text = re.sub(r'\\s+', ' ', text)  # Replace multiple spaces with a single space\n",
    "    cleaned_text = re.sub(r'\\n+', '\\n', cleaned_text)  # Replace multiple line breaks with a single line break\n",
    "    cleaned_text = re.sub(r'\\x0c', '', cleaned_text)  # Remove form feed characters\n",
    "    \n",
    "    return cleaned_text"
   ]
  },
  {
   "cell_type": "code",
   "execution_count": 22,
   "metadata": {},
   "outputs": [],
   "source": [
    "pdf_files_path = 'pdf-files/'\n",
    "results_path = 'results/'\n",
    "# list to store files\n",
    "\n",
    "for pdf_name in os.listdir(pdf_files_path):\n",
    "    pdf_file_path = os.path.join(pdf_files_path, pdf_name)\n",
    "    # check if current path is a file\n",
    "    if os.path.isfile(pdf_file_path):\n",
    "        output_path = os.path.join(results_path, pdf_name)\n",
    "        if not os.path.exists(output_path):\n",
    "            os.makedirs(output_path)\n",
    "        file_path = os.path.join(output_path, 'pypdf2-' + pdf_name.replace('.pdf', '.txt'))\n",
    "        extracted_text = extract_text_from_pdf(pdf_file_path)\n",
    "        if os.path.exists(file_path):\n",
    "            # Delete the file\n",
    "            os.remove(file_path)\n",
    "        with open(file_path, 'w') as file:\n",
    "            # Write the text to the file\n",
    "            file.write(extracted_text)"
   ]
  }
 ],
 "metadata": {
  "kernelspec": {
   "display_name": "Python 3",
   "language": "python",
   "name": "python3"
  },
  "language_info": {
   "codemirror_mode": {
    "name": "ipython",
    "version": 3
   },
   "file_extension": ".py",
   "mimetype": "text/x-python",
   "name": "python",
   "nbconvert_exporter": "python",
   "pygments_lexer": "ipython3",
   "version": "3.9.16"
  },
  "orig_nbformat": 4
 },
 "nbformat": 4,
 "nbformat_minor": 2
}
