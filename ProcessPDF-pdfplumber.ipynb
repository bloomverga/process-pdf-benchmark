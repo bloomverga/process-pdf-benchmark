{
 "cells": [
  {
   "cell_type": "code",
   "execution_count": 4,
   "metadata": {},
   "outputs": [],
   "source": [
    "import os, pdfplumber, re\n",
    "\n",
    "def extract_text_from_pdf(file_path):\n",
    "    \"\"\"Extract text from a pdf file using pdfplumber\n",
    "\n",
    "    Args:\n",
    "        file_path (str): relative path to the pdf file\n",
    "\n",
    "    Returns:\n",
    "        str: Text extracted from the pdf file\n",
    "    \"\"\"\n",
    "    pdf_reader = pdfplumber.open(file_path)\n",
    "    text = \"\"\n",
    "    for page in pdf_reader.pages:\n",
    "        text += page.extract_text()\n",
    "    return text"
   ]
  },
  {
   "cell_type": "code",
   "execution_count": 8,
   "metadata": {},
   "outputs": [],
   "source": [
    "pdf_files_path = 'pdf-files/'\n",
    "results_path = 'results/'\n",
    "# list to store files\n",
    "\n",
    "for pdf_name in os.listdir(pdf_files_path):\n",
    "    pdf_file_path = os.path.join(pdf_files_path, pdf_name)\n",
    "    # check if current path is a file\n",
    "    if os.path.isfile(pdf_file_path):\n",
    "        output_path = os.path.join(results_path, pdf_name)\n",
    "        if not os.path.exists(output_path):\n",
    "            os.makedirs(output_path)\n",
    "        file_path = os.path.join(output_path, 'pdfplumber-' + pdf_name.replace('.pdf', '.txt'))\n",
    "        extracted_text = extract_text_from_pdf(pdf_file_path)\n",
    "        if os.path.exists(file_path):\n",
    "            # Delete the file\n",
    "            os.remove(file_path)\n",
    "        with open(file_path, 'w') as file:\n",
    "            # Write the text to the file\n",
    "            file.write(extracted_text)"
   ]
  }
 ],
 "metadata": {
  "kernelspec": {
   "display_name": "adhenv",
   "language": "python",
   "name": "python3"
  },
  "language_info": {
   "codemirror_mode": {
    "name": "ipython",
    "version": 3
   },
   "file_extension": ".py",
   "mimetype": "text/x-python",
   "name": "python",
   "nbconvert_exporter": "python",
   "pygments_lexer": "ipython3",
   "version": "3.9.16"
  },
  "orig_nbformat": 4
 },
 "nbformat": 4,
 "nbformat_minor": 2
}
