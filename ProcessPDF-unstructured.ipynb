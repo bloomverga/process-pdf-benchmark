{
 "cells": [
  {
   "cell_type": "code",
   "execution_count": 1,
   "metadata": {},
   "outputs": [],
   "source": [
    "from unstructured.partition.pdf import partition_pdf\n",
    "import re, os"
   ]
  },
  {
   "cell_type": "code",
   "execution_count": 2,
   "metadata": {},
   "outputs": [],
   "source": [
    "def extract_text_from_pdf(file_path):\n",
    "    # s = strategy\n",
    "    elements = partition_pdf(file_path)\n",
    "    return \"\\n\\n\".join([str(el) for el in elements])"
   ]
  },
  {
   "cell_type": "code",
   "execution_count": 3,
   "metadata": {},
   "outputs": [],
   "source": [
    "def preprocess_text(text):\n",
    "    # Remove unwanted characters\n",
    "    cleaned_text = re.sub(r'\\s+', ' ', text)  # Replace multiple spaces with a single space\n",
    "    cleaned_text = re.sub(r'\\n+', '\\n', cleaned_text)  # Replace multiple line breaks with a single line break\n",
    "    cleaned_text = re.sub(r'\\x0c', '', cleaned_text)  # Remove form feed characters\n",
    "    \n",
    "    return cleaned_text"
   ]
  },
  {
   "attachments": {},
   "cell_type": "markdown",
   "metadata": {},
   "source": [
    "Convert the multicolumn file 'Code du travail' from pdf to text"
   ]
  },
  {
   "cell_type": "code",
   "execution_count": 5,
   "metadata": {},
   "outputs": [
    {
     "name": "stderr",
     "output_type": "stream",
     "text": [
      "detectron2 is not installed. Cannot use the hi_res partitioning strategy. Falling back to partitioning with the fast strategy.\n"
     ]
    }
   ],
   "source": [
    "pdf_path = 'pdf-files/multicolumn-code-travail-cmr.pdf'\n",
    "file_path = 'results/multicolumn-code-travail-cmr.txt'\n",
    "extracted_text = extract_text_from_pdf(pdf_path)\n",
    "if os.path.exists(file_path):\n",
    "    # Delete the file\n",
    "    os.remove(file_path)\n",
    "with open(file_path, 'w') as file:\n",
    "    # Write the text to the file\n",
    "    file.write(extracted_text)"
   ]
  },
  {
   "attachments": {},
   "cell_type": "markdown",
   "metadata": {},
   "source": [
    "Convert the multicolumn file 'Food Calories' from pdf to text"
   ]
  },
  {
   "cell_type": "code",
   "execution_count": 6,
   "metadata": {},
   "outputs": [
    {
     "name": "stderr",
     "output_type": "stream",
     "text": [
      "detectron2 is not installed. Cannot use the hi_res partitioning strategy. Falling back to partitioning with the fast strategy.\n"
     ]
    }
   ],
   "source": [
    "pdf_path = 'pdf-files/wtables-food-calories.pdf'\n",
    "file_path = 'results/wtables-food-calories.txt'\n",
    "extracted_text = extract_text_from_pdf(pdf_path)\n",
    "if os.path.exists(file_path):\n",
    "    # Delete the file\n",
    "    os.remove(file_path)\n",
    "with open(file_path, 'w') as file:\n",
    "    # Write the text to the file\n",
    "    file.write(extracted_text)"
   ]
  },
  {
   "attachments": {},
   "cell_type": "markdown",
   "metadata": {},
   "source": [
    "**Convert files from pdf to json with `unstructured`**"
   ]
  },
  {
   "cell_type": "code",
   "execution_count": 7,
   "metadata": {},
   "outputs": [],
   "source": [
    "from unstructured.staging.base import elements_to_json, elements_from_json"
   ]
  },
  {
   "attachments": {},
   "cell_type": "markdown",
   "metadata": {},
   "source": [
    "**Extract struture from pymupdf text results with Unstructured**"
   ]
  },
  {
   "cell_type": "code",
   "execution_count": 10,
   "metadata": {},
   "outputs": [
    {
     "name": "stderr",
     "output_type": "stream",
     "text": [
      "detectron2 is not installed. Cannot use the hi_res partitioning strategy. Falling back to partitioning with the fast strategy.\n",
      "detectron2 is not installed. Cannot use the hi_res partitioning strategy. Falling back to partitioning with the fast strategy.\n",
      "detectron2 is not installed. Cannot use the hi_res partitioning strategy. Falling back to partitioning with the fast strategy.\n"
     ]
    }
   ],
   "source": [
    "pdf_files_path = 'pdf-files/'\n",
    "results_path = 'results/'\n",
    "# strategies = ['auto', 'hires', 'ocr', 'fast']\n",
    "strategies = ['auto']\n",
    "# list to store files\n",
    "\n",
    "for strategy in strategies:\n",
    "    for pdf_name in os.listdir(pdf_files_path):\n",
    "        pdf_file_path = os.path.join(pdf_files_path, pdf_name)\n",
    "        # check if current path is a file\n",
    "        if os.path.isfile(pdf_file_path):\n",
    "            output_path = os.path.join(results_path, pdf_name)\n",
    "            if not os.path.exists(output_path):\n",
    "                os.makedirs(output_path)\n",
    "            file_path = os.path.join(output_path, 'u'+ strategy +'-' + pdf_name.replace('.pdf', '.txt'))\n",
    "            extracted_text = extract_text_from_pdf(pdf_file_path) #, strategy=strategy)\n",
    "            if os.path.exists(file_path):\n",
    "                # Delete the file\n",
    "                os.remove(file_path)\n",
    "            with open(file_path, 'w') as file:\n",
    "                # Write the text to the file\n",
    "                file.write(extracted_text)"
   ]
  }
 ],
 "metadata": {
  "kernelspec": {
   "display_name": "Python 3",
   "language": "python",
   "name": "python3"
  },
  "language_info": {
   "codemirror_mode": {
    "name": "ipython",
    "version": 3
   },
   "file_extension": ".py",
   "mimetype": "text/x-python",
   "name": "python",
   "nbconvert_exporter": "python",
   "pygments_lexer": "ipython3",
   "version": "3.9.16"
  },
  "orig_nbformat": 4
 },
 "nbformat": 4,
 "nbformat_minor": 2
}
